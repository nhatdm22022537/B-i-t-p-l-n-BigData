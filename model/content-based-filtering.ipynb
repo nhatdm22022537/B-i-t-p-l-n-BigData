{
 "cells": [
  {
   "cell_type": "code",
   "execution_count": 10,
   "metadata": {},
   "outputs": [
    {
     "name": "stderr",
     "output_type": "stream",
     "text": [
      "24/05/26 21:54:40 WARN Utils: Your hostname, nhatdm2k4 resolves to a loopback address: 127.0.1.1; using 192.168.1.43 instead (on interface wlo1)\n",
      "24/05/26 21:54:40 WARN Utils: Set SPARK_LOCAL_IP if you need to bind to another address\n",
      "Setting default log level to \"WARN\".\n",
      "To adjust logging level use sc.setLogLevel(newLevel). For SparkR, use setLogLevel(newLevel).\n",
      "24/05/26 21:54:41 WARN NativeCodeLoader: Unable to load native-hadoop library for your platform... using builtin-java classes where applicable\n",
      "24/05/26 21:54:41 WARN Utils: Service 'SparkUI' could not bind on port 4040. Attempting port 4041.\n",
      "                                                                                \r"
     ]
    }
   ],
   "source": [
    "from pyspark.sql import SparkSession\n",
    "from pyspark.ml.feature import CountVectorizer, IDF\n",
    "from pyspark.ml.linalg import Vectors\n",
    "from pyspark.sql.functions import col, udf, explode, desc\n",
    "\n",
    "# Create or get SparkSession\n",
    "spark = SparkSession.builder.appName(\"ContentBasedFiltering\").getOrCreate()\n",
    "\n",
    "# Load the dataset\n",
    "df = spark.read.csv(\"modified_movies.csv\", header=True, inferSchema=True)\n"
   ]
  },
  {
   "cell_type": "code",
   "execution_count": 12,
   "metadata": {},
   "outputs": [
    {
     "name": "stdout",
     "output_type": "stream",
     "text": [
      "+---+----------+-------+--------------------+------+--------------------+----+\n",
      "|_c0|Unnamed: 0|User_Id|          Movie_Name|Rating|               Genre|Year|\n",
      "+---+----------+-------+--------------------+------+--------------------+----+\n",
      "|  0|         0|      1|        Pulp Fiction|   5.0|Comedy|Crime|Dram...|1994|\n",
      "|  1|         1|      1|Three Colors: Red...|   3.5|               Drama|1994|\n",
      "|  2|         2|      1|Three Colors: Blu...|   5.0|               Drama|1993|\n",
      "|  3|         3|      1|         Underground|   5.0|    Comedy|Drama|War|1995|\n",
      "|  4|         4|      1| Singin' in the Rain|   3.5|Comedy|Musical|Ro...|1952|\n",
      "|  5|         5|      1|       Dirty Dancing|   4.0|Drama|Musical|Rom...|1987|\n",
      "|  6|         6|      1|        Delicatessen|   3.5|Comedy|Drama|Romance|1991|\n",
      "|  7|         7|      1|                 Ran|   3.5|           Drama|War|1985|\n",
      "|  8|         8|      1|Seventh Seal, The...|   5.0|               Drama|1957|\n",
      "|  9|         9|      1|Bridge on the Riv...|   4.0| Adventure|Drama|War|1957|\n",
      "| 10|        10|      1|                   M|   3.5|Crime|Film-Noir|T...|1931|\n",
      "| 11|        11|      1|             Gattaca|   4.0|Drama|Sci-Fi|Thri...|1997|\n",
      "| 12|        12|      1|Back to the Futur...|   2.5|Adventure|Comedy|...|1989|\n",
      "| 13|        13|      1|Back to the Futur...|   2.5|Adventure|Comedy|...|1990|\n",
      "| 14|        14|      1|Fanny and Alexand...|   2.5|Drama|Fantasy|Mys...|1982|\n",
      "| 15|        15|      1|NeverEnding Story...|   3.5|Adventure|Childre...|1984|\n",
      "| 16|        16|      1|Nights of Cabiria...|   4.5|               Drama|1957|\n",
      "| 17|        17|      1|               Tango|   4.0|       Drama|Musical|1998|\n",
      "| 18|        18|      1|Saragossa Manuscr...|   5.0|Adventure|Drama|M...|1965|\n",
      "| 19|        19|      1|Run Lola Run (Lol...|   5.0|        Action|Crime|1998|\n",
      "+---+----------+-------+--------------------+------+--------------------+----+\n",
      "only showing top 20 rows\n",
      "\n"
     ]
    },
    {
     "name": "stderr",
     "output_type": "stream",
     "text": [
      "24/05/26 21:55:09 WARN CSVHeaderChecker: CSV header does not conform to the schema.\n",
      " Header: , Unnamed: 0, User_Id, Movie_Name, Rating, Genre, Year\n",
      " Schema: _c0, Unnamed: 0, User_Id, Movie_Name, Rating, Genre, Year\n",
      "Expected: _c0 but found: \n",
      "CSV file: hdfs://localhost:9000/user/nhatdm2k4/modified_movies.csv\n"
     ]
    }
   ],
   "source": [
    "df.show()"
   ]
  },
  {
   "cell_type": "code",
   "execution_count": 14,
   "metadata": {},
   "outputs": [],
   "source": [
    "from pyspark.sql.functions import split, explode\n",
    "\n",
    "df_exploded = df.select(\n",
    "    col(\"User_Id\"), \n",
    "    col(\"Movie_Name\"), \n",
    "    explode(split(col(\"Genre\"), r\"\\|\")).alias(\"Genre\")\n",
    ")"
   ]
  },
  {
   "cell_type": "code",
   "execution_count": 15,
   "metadata": {},
   "outputs": [
    {
     "name": "stdout",
     "output_type": "stream",
     "text": [
      "+-------+--------------------+--------+\n",
      "|User_Id|          Movie_Name|   Genre|\n",
      "+-------+--------------------+--------+\n",
      "|      1|        Pulp Fiction|  Comedy|\n",
      "|      1|        Pulp Fiction|   Crime|\n",
      "|      1|        Pulp Fiction|   Drama|\n",
      "|      1|        Pulp Fiction|Thriller|\n",
      "|      1|Three Colors: Red...|   Drama|\n",
      "|      1|Three Colors: Blu...|   Drama|\n",
      "|      1|         Underground|  Comedy|\n",
      "|      1|         Underground|   Drama|\n",
      "|      1|         Underground|     War|\n",
      "|      1| Singin' in the Rain|  Comedy|\n",
      "|      1| Singin' in the Rain| Musical|\n",
      "|      1| Singin' in the Rain| Romance|\n",
      "|      1|       Dirty Dancing|   Drama|\n",
      "|      1|       Dirty Dancing| Musical|\n",
      "|      1|       Dirty Dancing| Romance|\n",
      "|      1|        Delicatessen|  Comedy|\n",
      "|      1|        Delicatessen|   Drama|\n",
      "|      1|        Delicatessen| Romance|\n",
      "|      1|                 Ran|   Drama|\n",
      "|      1|                 Ran|     War|\n",
      "+-------+--------------------+--------+\n",
      "only showing top 20 rows\n",
      "\n"
     ]
    }
   ],
   "source": [
    "#Explode genres into separate rows\n",
    "df_exploded.show()"
   ]
  },
  {
   "cell_type": "code",
   "execution_count": 19,
   "metadata": {},
   "outputs": [],
   "source": [
    "from pyspark.sql.functions import collect_list\n",
    "# 2. Group by Movie and Collect Genres:\n",
    "df_grouped = df_exploded.groupBy(\"Movie_Name\").agg(collect_list(\"Genre\").alias(\"Genres\"))\n"
   ]
  },
  {
   "cell_type": "code",
   "execution_count": 20,
   "metadata": {},
   "outputs": [
    {
     "name": "stderr",
     "output_type": "stream",
     "text": [
      "[Stage 6:>                                                          (0 + 1) / 1]\r"
     ]
    },
    {
     "name": "stdout",
     "output_type": "stream",
     "text": [
      "+--------------------+--------------------+\n",
      "|          Movie_Name|              Genres|\n",
      "+--------------------+--------------------+\n",
      "|              #Stuck|[Comedy, Drama, R...|\n",
      "|        #realityhigh|[Comedy, Comedy, ...|\n",
      "|             '49-'17|[Comedy, Western,...|\n",
      "|                 '71|[Action, Action, ...|\n",
      "|             'R Xmas|[Crime, Crime, Cr...|\n",
      "|  'Til There Was You|[Drama, Drama, Ro...|\n",
      "|'Tis the Season f...|[Romance, Romance...|\n",
      "|     'Twas the Night|[Children, Childr...|\n",
      "|'Twas the Night B...|[Animation, Anima...|\n",
      "|...And the Earth ...|[(no genres listed)]|\n",
      "|...tick... tick.....|[Action, Drama, A...|\n",
      "|.hack Liminality ...|[(no genres listed)]|\n",
      "|      009 Re: Cyborg|[Action, Animatio...|\n",
      "|    1 Chance 2 Dance|[(no genres liste...|\n",
      "|           1 Journée|             [Drama]|\n",
      "|    1 Litre of Tears|             [Drama]|\n",
      "|                  1%|      [Drama, Drama]|\n",
      "|       10 000 timmar|[Comedy, Comedy, ...|\n",
      "|      10 Cent Pistol|[Crime, Thriller,...|\n",
      "|          10 Minutes|[(no genres liste...|\n",
      "+--------------------+--------------------+\n",
      "only showing top 20 rows\n",
      "\n"
     ]
    },
    {
     "name": "stderr",
     "output_type": "stream",
     "text": [
      "                                                                                \r"
     ]
    }
   ],
   "source": [
    "df_grouped.show()"
   ]
  },
  {
   "cell_type": "code",
   "execution_count": 21,
   "metadata": {},
   "outputs": [
    {
     "name": "stderr",
     "output_type": "stream",
     "text": [
      "                                                                                \r"
     ]
    }
   ],
   "source": [
    "# 3. Apply CountVectorizer:\n",
    "cv = CountVectorizer(inputCol=\"Genres\", outputCol=\"rawFeatures\") \n",
    "model = cv.fit(df_grouped)\n",
    "featurizedData = model.transform(df_grouped)"
   ]
  },
  {
   "cell_type": "code",
   "execution_count": 23,
   "metadata": {},
   "outputs": [
    {
     "name": "stderr",
     "output_type": "stream",
     "text": [
      "[Stage 14:====================================================>   (13 + 1) / 14]\r"
     ]
    },
    {
     "name": "stdout",
     "output_type": "stream",
     "text": [
      "+--------------------+--------------------+--------------------+\n",
      "|          Movie_Name|              Genres|         rawFeatures|\n",
      "+--------------------+--------------------+--------------------+\n",
      "|              #Stuck|[Comedy, Drama, R...|(20,[0,1,5],[3.0,...|\n",
      "|        #realityhigh|[Comedy, Comedy, ...|     (20,[1],[18.0])|\n",
      "|             '49-'17|[Comedy, Western,...|(20,[1,16],[4.0,4...|\n",
      "|                 '71|[Action, Action, ...|(20,[0,2,3,13],[3...|\n",
      "|             'R Xmas|[Crime, Crime, Cr...|(20,[0,7],[27.0,2...|\n",
      "|  'Til There Was You|[Drama, Drama, Ro...|(20,[0,5],[475.0,...|\n",
      "|'Tis the Season f...|[Romance, Romance...|     (20,[5],[11.0])|\n",
      "|     'Twas the Night|[Children, Childr...|      (20,[9],[5.0])|\n",
      "|'Twas the Night B...|[Animation, Anima...|(20,[8,9,12],[24....|\n",
      "|...And the Earth ...|[(no genres listed)]|     (20,[19],[1.0])|\n",
      "|...tick... tick.....|[Action, Drama, A...|(20,[0,2],[7.0,7.0])|\n",
      "|.hack Liminality ...|[(no genres listed)]|     (20,[19],[1.0])|\n",
      "|      009 Re: Cyborg|[Action, Animatio...|(20,[2,6,12],[11....|\n",
      "|    1 Chance 2 Dance|[(no genres liste...|     (20,[19],[4.0])|\n",
      "|           1 Journée|             [Drama]|      (20,[0],[1.0])|\n",
      "|    1 Litre of Tears|             [Drama]|      (20,[0],[1.0])|\n",
      "|                  1%|      [Drama, Drama]|      (20,[0],[2.0])|\n",
      "|       10 000 timmar|[Comedy, Comedy, ...|      (20,[1],[3.0])|\n",
      "|      10 Cent Pistol|[Crime, Thriller,...|(20,[3,7],[7.0,7.0])|\n",
      "|          10 Minutes|[(no genres liste...|     (20,[19],[2.0])|\n",
      "+--------------------+--------------------+--------------------+\n",
      "only showing top 20 rows\n",
      "\n"
     ]
    },
    {
     "name": "stderr",
     "output_type": "stream",
     "text": [
      "                                                                                \r"
     ]
    }
   ],
   "source": [
    "featurizedData.show()"
   ]
  },
  {
   "cell_type": "code",
   "execution_count": 24,
   "metadata": {},
   "outputs": [
    {
     "name": "stderr",
     "output_type": "stream",
     "text": [
      "                                                                                \r"
     ]
    }
   ],
   "source": [
    "idf = IDF(inputCol=\"rawFeatures\", outputCol=\"features\")\n",
    "idfModel = idf.fit(featurizedData)\n",
    "rescaledData = idfModel.transform(featurizedData)\n"
   ]
  },
  {
   "cell_type": "code",
   "execution_count": 25,
   "metadata": {},
   "outputs": [
    {
     "name": "stderr",
     "output_type": "stream",
     "text": [
      "[Stage 21:====================================================>   (13 + 1) / 14]\r"
     ]
    },
    {
     "name": "stdout",
     "output_type": "stream",
     "text": [
      "+--------------------+--------------------+--------------------+--------------------+\n",
      "|          Movie_Name|              Genres|         rawFeatures|            features|\n",
      "+--------------------+--------------------+--------------------+--------------------+\n",
      "|              #Stuck|[Comedy, Drama, R...|(20,[0,1,5],[3.0,...|(20,[0,1,5],[2.59...|\n",
      "|        #realityhigh|[Comedy, Comedy, ...|     (20,[1],[18.0])|(20,[1],[22.67835...|\n",
      "|             '49-'17|[Comedy, Western,...|(20,[1,16],[4.0,4...|(20,[1,16],[5.039...|\n",
      "|                 '71|[Action, Action, ...|(20,[0,2,3,13],[3...|(20,[0,2,3,13],[2...|\n",
      "|             'R Xmas|[Crime, Crime, Cr...|(20,[0,7],[27.0,2...|(20,[0,7],[23.381...|\n",
      "|  'Til There Was You|[Drama, Drama, Ro...|(20,[0,5],[475.0,...|(20,[0,5],[411.34...|\n",
      "|'Tis the Season f...|[Romance, Romance...|     (20,[5],[11.0])|(20,[5],[22.63031...|\n",
      "|     'Twas the Night|[Children, Childr...|      (20,[9],[5.0])|(20,[9],[14.97307...|\n",
      "|'Twas the Night B...|[Animation, Anima...|(20,[8,9,12],[24....|(20,[8,9,12],[73....|\n",
      "|...And the Earth ...|[(no genres listed)]|     (20,[19],[1.0])|(20,[19],[2.50173...|\n",
      "|...tick... tick.....|[Action, Drama, A...|(20,[0,2],[7.0,7.0])|(20,[0,2],[6.0619...|\n",
      "|.hack Liminality ...|[(no genres listed)]|     (20,[19],[1.0])|(20,[19],[2.50173...|\n",
      "|      009 Re: Cyborg|[Action, Animatio...|(20,[2,6,12],[11....|(20,[2,6,12],[23....|\n",
      "|    1 Chance 2 Dance|[(no genres liste...|     (20,[19],[4.0])|(20,[19],[10.0069...|\n",
      "|           1 Journée|             [Drama]|      (20,[0],[1.0])|(20,[0],[0.865989...|\n",
      "|    1 Litre of Tears|             [Drama]|      (20,[0],[1.0])|(20,[0],[0.865989...|\n",
      "|                  1%|      [Drama, Drama]|      (20,[0],[2.0])|(20,[0],[1.731978...|\n",
      "|       10 000 timmar|[Comedy, Comedy, ...|      (20,[1],[3.0])|(20,[1],[3.779725...|\n",
      "|      10 Cent Pistol|[Crime, Thriller,...|(20,[3,7],[7.0,7.0])|(20,[3,7],[13.574...|\n",
      "|          10 Minutes|[(no genres liste...|     (20,[19],[2.0])|(20,[19],[5.00347...|\n",
      "+--------------------+--------------------+--------------------+--------------------+\n",
      "only showing top 20 rows\n",
      "\n"
     ]
    },
    {
     "name": "stderr",
     "output_type": "stream",
     "text": [
      "                                                                                \r"
     ]
    }
   ],
   "source": [
    "rescaledData.show()"
   ]
  },
  {
   "cell_type": "code",
   "execution_count": 26,
   "metadata": {},
   "outputs": [
    {
     "name": "stderr",
     "output_type": "stream",
     "text": [
      "[Stage 27:======================================================> (35 + 1) / 36]\r"
     ]
    },
    {
     "name": "stdout",
     "output_type": "stream",
     "text": [
      "+--------------------+--------------------+--------------------+\n",
      "|              movie1|              movie2|          similarity|\n",
      "+--------------------+--------------------+--------------------+\n",
      "|            Chocolat|               Kenny|9.998180365258422E-4|\n",
      "|       Dirty Dancing|               House|9.997434257065828E-4|\n",
      "|          The Guilty|         Underground|9.996743847901846E-4|\n",
      "|            Chocolat|     Kiss Me Goodbye|9.993493658537972E-4|\n",
      "|Fanny and Alexand...|                Fear|9.992990437192216E-5|\n",
      "|Bridge on the Riv...|           Dead Heat| 9.99286559551358E-4|\n",
      "|            Chocolat|            Splendor|9.990127999092737E-4|\n",
      "|       Dirty Dancing|                 Pan|9.987154880592904E-5|\n",
      "|             My Girl|NeverEnding Story...|9.983789130123886E-4|\n",
      "|            Chocolat|     Little Monsters|9.980520477442072E-4|\n",
      "|Bad Education (La...|      My Blue Heaven| 9.97938881797442E-4|\n",
      "|Barbarian Invasio...|            Iron Man|9.977944928804664E-6|\n",
      "|               Akira|                   M| 9.97339344213557E-5|\n",
      "|            Adelheid|                   M| 9.97124897464755E-4|\n",
      "|       Amateur Teens|                   M| 9.97124897464755E-4|\n",
      "|       I Am (Jestem)|                   M| 9.97124897464755E-4|\n",
      "|                AWOL|                   M| 9.97124897464755E-4|\n",
      "|    Adieu Philippine|                   M| 9.97124897464755E-4|\n",
      "|              Homage|                   M| 9.97124897464755E-4|\n",
      "|A Magnificent Hau...|                   M| 9.97124897464755E-4|\n",
      "+--------------------+--------------------+--------------------+\n",
      "only showing top 20 rows\n",
      "\n"
     ]
    },
    {
     "name": "stderr",
     "output_type": "stream",
     "text": [
      "                                                                                \r"
     ]
    }
   ],
   "source": [
    "def cosine_similarity(v1, v2):\n",
    "    return float(v1.dot(v2) / (v1.norm(2) * v2.norm(2)))\n",
    "\n",
    "cosine_similarity_udf = udf(cosine_similarity)\n",
    "\n",
    "# Calculate similarity between movies\n",
    "movie_pairs = rescaledData.alias(\"i\").join(\n",
    "    rescaledData.alias(\"j\"), col(\"i.Movie_Name\") < col(\"j.Movie_Name\")\n",
    ").select(\n",
    "    col(\"i.Movie_Name\").alias(\"movie1\"),\n",
    "    col(\"j.Movie_Name\").alias(\"movie2\"),\n",
    "    cosine_similarity_udf(col(\"i.features\"), col(\"j.features\")).alias(\"similarity\")\n",
    ")\n",
    "\n",
    "# Get recommendations based on user's watched movies\n",
    "user_id = 1  \n",
    "watched_movies = df.filter(col(\"User_Id\") == user_id).select(\"Movie_Name\").rdd.flatMap(lambda x: x).collect()\n",
    "\n",
    "recommendations = movie_pairs.filter(\n",
    "    (col(\"movie1\").isin(watched_movies)) | (col(\"movie2\").isin(watched_movies))\n",
    ").sort(desc(\"similarity\"))\n",
    "\n",
    "#Show recommendations:\n",
    "recommendations.show()\n"
   ]
  }
 ],
 "metadata": {
  "kernelspec": {
   "display_name": "Python 3",
   "language": "python",
   "name": "python3"
  },
  "language_info": {
   "codemirror_mode": {
    "name": "ipython",
    "version": 3
   },
   "file_extension": ".py",
   "mimetype": "text/x-python",
   "name": "python",
   "nbconvert_exporter": "python",
   "pygments_lexer": "ipython3",
   "version": "3.10.12"
  }
 },
 "nbformat": 4,
 "nbformat_minor": 2
}
